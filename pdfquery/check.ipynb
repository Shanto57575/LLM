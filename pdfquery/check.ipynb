{
 "cells": [
  {
   "cell_type": "code",
   "execution_count": 62,
   "metadata": {},
   "outputs": [],
   "source": [
    "from langchain_huggingface import HuggingFaceEmbeddings\n",
    "\n",
    "embeddings = HuggingFaceEmbeddings(model_name=\"sentence-transformers/all-mpnet-base-v2\")"
   ]
  },
  {
   "cell_type": "code",
   "execution_count": 80,
   "metadata": {},
   "outputs": [],
   "source": [
    "from langchain_community.document_loaders import PyMuPDFLoader\n",
    "\n",
    "file_path = \"llm.pdf\"\n",
    "loader = PyMuPDFLoader(file_path=file_path)\n",
    "docs = loader.load()"
   ]
  },
  {
   "cell_type": "code",
   "execution_count": 100,
   "metadata": {},
   "outputs": [],
   "source": [
    "import os\n",
    "from dotenv import load_dotenv\n",
    "load_dotenv()\n",
    "\n",
    "from langchain_qdrant import QdrantVectorStore\n",
    "\n",
    "url = os.getenv(\"QDRANT_URL\")\n",
    "api_key=os.getenv(\"QDRANT_API_KEY\")\n",
    "\n",
    "vector_store = QdrantVectorStore.from_documents(\n",
    "    docs,\n",
    "    embeddings,\n",
    "    url=url,\n",
    "    prefer_grpc=True,\n",
    "    api_key=api_key,\n",
    "    collection_name=\"pdf-store\"\n",
    ")"
   ]
  },
  {
   "cell_type": "code",
   "execution_count": null,
   "metadata": {},
   "outputs": [],
   "source": [
    "from langchain_text_splitters import RecursiveCharacterTextSplitter\n",
    "from uuid import uuid4\n",
    "\n",
    "text_in_split = RecursiveCharacterTextSplitter(chunk_size=1000, chunk_overlap=200)\n",
    "\n",
    "text_chunks = text_in_split.split_documents(docs)\n",
    "\n",
    "uuids = [str(uuid4()) for _ in range(len(text_chunks))]\n",
    "vector_store.add_documents(documents=text_chunks, ids=uuids)"
   ]
  },
  {
   "cell_type": "code",
   "execution_count": 126,
   "metadata": {},
   "outputs": [],
   "source": [
    "query = \"what is LLM?\"\n",
    "result = vector_store.similarity_search(query, k=3)\n",
    "\n",
    "context = \"\\n\".join([doc.page_content for doc in result])"
   ]
  },
  {
   "cell_type": "code",
   "execution_count": null,
   "metadata": {},
   "outputs": [],
   "source": [
    "from langchain_core.prompts import PromptTemplate\n",
    "from langchain_google_genai import GoogleGenerativeAI\n",
    "\n",
    "llm = GoogleGenerativeAI(model=\"gemini-2.0-flash\")\n",
    "\n",
    "prompt_template = PromptTemplate(\n",
    "    template=\"Based on the following context, answer the question:\\n\\n Context: {context}\\n\\n\\Question: {query}\\n\\nAnswer:\",\n",
    "    input_variables=[\"context\", \"query\"]\n",
    ")\n",
    "\n",
    "final_prompt = prompt_template.format_prompt(context=context, query=query)\n",
    "response = llm.invoke(final_prompt)\n",
    "\n",
    "print(\"shanGPT 0.1:\", response)"
   ]
  }
 ],
 "metadata": {
  "kernelspec": {
   "display_name": "venv",
   "language": "python",
   "name": "python3"
  },
  "language_info": {
   "codemirror_mode": {
    "name": "ipython",
    "version": 3
   },
   "file_extension": ".py",
   "mimetype": "text/x-python",
   "name": "python",
   "nbconvert_exporter": "python",
   "pygments_lexer": "ipython3",
   "version": "3.11.8"
  }
 },
 "nbformat": 4,
 "nbformat_minor": 2
}
