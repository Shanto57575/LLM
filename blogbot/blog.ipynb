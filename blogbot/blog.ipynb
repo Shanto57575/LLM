{
 "cells": [
  {
   "cell_type": "code",
   "execution_count": 4,
   "metadata": {},
   "outputs": [],
   "source": [
    "import requests\n",
    "from bs4 import BeautifulSoup\n",
    "\n",
    "def extract_txt_from_url(url):\n",
    "    \"scrapes the main content from a webpage and returns the extracted text\"\n",
    "    headers = {\"user-Agent\": \"Mozilla/5.0\"}\n",
    "\n",
    "    try:\n",
    "        response = requests.get(url)\n",
    "    except requests.exceptions.RequestException as e:\n",
    "        print(f\"Failed to fetch {url}: {e}\")    \n",
    "        return \"\"\n",
    "    \n",
    "    soup = BeautifulSoup(response.text, \"html.parser\")\n",
    "    paragraphs = soup.find_all(\"p\")\n",
    "    text = \"\\n\".join([p.get_text() for p in paragraphs])\n",
    "    return text"
   ]
  },
  {
   "cell_type": "code",
   "execution_count": 5,
   "metadata": {},
   "outputs": [],
   "source": [
    "all_urls = [\n",
    "    \"https://janefriedman.com/blogging-for-writers\",\n",
    "    \"https://medium.com/@noureldin_z3r0/how-to-write-the-perfect-blog-post-my-10-000-word-journey-7b5b38525848\",\n",
    "    \"https://www.wordstream.com/blog/ws/2015/02/09/how-to-write-a-blog-post\",\n",
    "    \"https://www.wix.com/blog/how-to-write-a-blog-post-with-examples\"\n",
    "]\n",
    "\n",
    "scraped_content = []\n",
    "for url in all_urls:\n",
    "    text = extract_txt_from_url(url)\n",
    "    if text:\n",
    "        scraped_content.append(text)\n"
   ]
  },
  {
   "cell_type": "code",
   "execution_count": 7,
   "metadata": {},
   "outputs": [],
   "source": [
    "combined_text = \"\\n\\n\".join(scraped_content)"
   ]
  },
  {
   "cell_type": "code",
   "execution_count": 15,
   "metadata": {},
   "outputs": [],
   "source": [
    "from langchain_google_genai import GoogleGenerativeAI\n",
    "\n",
    "llm = GoogleGenerativeAI(model=\"gemini-2.0-flash\", temperature=0.7)"
   ]
  },
  {
   "cell_type": "code",
   "execution_count": 23,
   "metadata": {},
   "outputs": [],
   "source": [
    "def generate_blogs(extracted_data, topic):\n",
    "    prompt = f\"\"\"\n",
    "    You are an expert blog writer. Your task is to generate a detailed blog on the topic: \"{topic}\".\n",
    "\n",
    "    Follow these best practices while writing:\n",
    "    - Use the following references as guidelines, NOT as the blog topic itself:\n",
    "      {extracted_data}\n",
    "    - The blog should be original and not just a summary of the references.\n",
    "    - Make it engaging, well-structured, and informative.\n",
    "\n",
    "    Now, write a professional and high-quality blog about \"{topic}\".\n",
    "    \"\"\"\n",
    "    response = llm.invoke(prompt)\n",
    "    return response\n",
    "\n",
    "final_output = generate_blogs(combined_text, \"Professor Younus\")"
   ]
  },
  {
   "cell_type": "code",
   "execution_count": 24,
   "metadata": {},
   "outputs": [
    {
     "data": {
      "text/plain": [
       "'## Professor Muhammad Yunus: A Beacon of Hope and Microfinance Pioneer\\n\\nProfessor Muhammad Yunus is more than just an economist; he\\'s a social entrepreneur, a Nobel Peace Prize laureate, and a visionary who has dedicated his life to alleviating poverty. His groundbreaking work in microfinance has empowered millions of people around the world, offering them a chance to break free from the cycle of poverty with dignity and self-reliance. This blog explores the life, work, and enduring legacy of Professor Yunus, a true champion of the underserved.\\n\\n**From Academia to Activism: A Defining Moment**\\n\\nBorn in Bangladesh in 1940, Muhammad Yunus excelled academically, eventually earning a PhD in economics from Vanderbilt University. He returned to Bangladesh and became a professor at Chittagong University. However, the devastating famine of 1974 profoundly impacted him. Witnessing widespread suffering firsthand, he felt disillusioned with traditional economic theories that seemed unable to address the immediate needs of the poor.\\n\\nThis pivotal moment led him to question conventional banking practices, which often excluded the impoverished due to their lack of collateral and perceived creditworthiness. He believed that access to credit was a fundamental human right and that even small loans could empower individuals to start businesses and improve their lives.\\n\\n**The Birth of Grameen Bank: Banking on the Poor**\\n\\nIn 1976, Professor Yunus took a bold step. He personally loaned $27 to 42 villagers in Jobra, Bangladesh, enabling them to purchase bamboo and create stools for sale. This simple act demonstrated the immense potential of microcredit. Encouraged by the success, he formally established Grameen Bank (meaning \"village bank\") in 1983.\\n\\nGrameen Bank\\'s innovative approach challenged traditional banking norms. It provided small loans, primarily to women, without requiring collateral. The bank operated on the principles of trust, peer support, and social responsibility. Borrowers formed groups, providing mutual guarantee and encouragement. This system not only ensured high repayment rates but also fostered a sense of community and empowerment.\\n\\n**Microfinance Revolution: Impacting Lives Globally**\\n\\nThe Grameen Bank model proved remarkably successful, expanding rapidly across Bangladesh and inspiring similar initiatives worldwide. Microfinance institutions (MFIs) emerged in numerous countries, providing financial services to the unbanked and underbanked populations.\\n\\nThe impact of microfinance has been significant:\\n\\n*   **Poverty Reduction:** Microloans have enabled millions to start small businesses, generate income, and improve their living standards.\\n*   **Women\\'s Empowerment:** Grameen Bank\\'s focus on lending to women has had a transformative impact, increasing their economic independence, decision-making power, and social status.\\n*   **Entrepreneurship:** Microfinance has fostered a culture of entrepreneurship, encouraging individuals to take initiative and create opportunities for themselves and their communities.\\n*   **Social Development:** By improving economic conditions, microfinance has contributed to broader social development goals, such as improved health, education, and access to essential services.\\n\\n**Beyond Microfinance: Social Business and a World Without Poverty**\\n\\nProfessor Yunus\\'s vision extends beyond microfinance. He advocates for the concept of \"social business,\" which he defines as a company created to solve a social problem rather than maximize profit for its owners. Social businesses are financially self-sustaining and reinvest profits into expanding their social impact.\\n\\nHe has established numerous social businesses, addressing issues such as healthcare, education, renewable energy, and nutrition. His goal is to create a world without poverty, where everyone has the opportunity to live a dignified and fulfilling life.\\n\\n**Recognition and Criticism: A Complex Legacy**\\n\\nProfessor Yunus\\'s work has received widespread recognition, including the Nobel Peace Prize in 2006, which he shared with Grameen Bank. He has received numerous other awards and honorary degrees, solidifying his status as a global leader in poverty alleviation.\\n\\nHowever, microfinance has also faced criticism. Concerns have been raised about high interest rates charged by some MFIs, leading to debt traps for borrowers. There have also been criticisms about the effectiveness of microfinance in certain contexts and the potential for it to exacerbate existing inequalities.\\n\\nProfessor Yunus has addressed these criticisms, emphasizing the importance of responsible lending practices, transparency, and client protection. He advocates for strong regulatory frameworks to ensure that microfinance serves its intended purpose of empowering the poor.\\n\\n**Professor Younus\\'s Enduring Legacy**\\n\\nProfessor Muhammad Yunus\\'s legacy is one of innovation, compassion, and unwavering commitment to social justice. He has demonstrated the power of microfinance to transform lives, empowering millions to break free from poverty and build a better future. His vision of social business offers a promising model for addressing pressing social problems in a sustainable and impactful way.\\n\\nWhile challenges remain, Professor Yunus\\'s work continues to inspire hope and drive positive change around the world. He reminds us that poverty is not an insurmountable problem but a solvable one, requiring innovative solutions, collective action, and a fundamental belief in the potential of every human being. His work serves as a powerful call to action, urging us to create a more just and equitable world for all.'"
      ]
     },
     "execution_count": 24,
     "metadata": {},
     "output_type": "execute_result"
    }
   ],
   "source": [
    "final_output"
   ]
  },
  {
   "cell_type": "code",
   "execution_count": null,
   "metadata": {},
   "outputs": [],
   "source": []
  }
 ],
 "metadata": {
  "kernelspec": {
   "display_name": "venv",
   "language": "python",
   "name": "python3"
  },
  "language_info": {
   "codemirror_mode": {
    "name": "ipython",
    "version": 3
   },
   "file_extension": ".py",
   "mimetype": "text/x-python",
   "name": "python",
   "nbconvert_exporter": "python",
   "pygments_lexer": "ipython3",
   "version": "3.11.8"
  }
 },
 "nbformat": 4,
 "nbformat_minor": 2
}
