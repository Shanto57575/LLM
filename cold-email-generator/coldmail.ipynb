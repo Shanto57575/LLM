{
 "cells": [
  {
   "cell_type": "code",
   "execution_count": 34,
   "metadata": {},
   "outputs": [
    {
     "name": "stdout",
     "output_type": "stream",
     "text": [
      "Lionel Messi.\n"
     ]
    }
   ],
   "source": [
    "from langchain_groq import ChatGroq\n",
    "\n",
    "llm = ChatGroq(\n",
    "    model=\"llama-3.3-70b-versatile\",\n",
    "    temperature=0,\n",
    "    max_tokens=None,\n",
    "    timeout=None,\n",
    "    max_retries=2,\n",
    ")\n",
    "response = llm.invoke(\"who is the best footballer of all time? One answer only\").content\n",
    "\n",
    "print(response) "
   ]
  },
  {
   "cell_type": "code",
   "execution_count": 58,
   "metadata": {},
   "outputs": [],
   "source": [
    "from langchain.prompts import PromptTemplate\n",
    "from langchain_core.output_parsers import StrOutputParser\n",
    "from langchain_community.document_loaders import WebBaseLoader, PyMuPDFLoader\n",
    "\n",
    "# load jobs_post_data\n",
    "loader = WebBaseLoader(\"https://www.turing.com/jobs/front-end-developer-jobs-in-bangladesh?utm_campaign=google_jobs_apply&utm_source=google_jobs_apply&utm_medium=organic\")\n",
    "job_post_data = loader.load()"
   ]
  },
  {
   "cell_type": "code",
   "execution_count": 59,
   "metadata": {},
   "outputs": [],
   "source": [
    "# load cv\n",
    "user_cv=\"./Md. Shahidul Islam - Resume.pdf\"\n",
    "loader = PyMuPDFLoader(file_path=user_cv)\n",
    "cv_content = loader.load()"
   ]
  },
  {
   "cell_type": "code",
   "execution_count": null,
   "metadata": {},
   "outputs": [
    {
     "name": "stdout",
     "output_type": "stream",
     "text": [
      "Here's a personalized cold email tailored to the job posting and the user's CV:\n",
      "\n",
      "Subject: Application for Front-end Developer Role at Turing\n",
      "\n",
      "Dear Hiring Manager,\n",
      "\n",
      "I'm excited to apply for the Front-end Developer position at Turing, as advertised on Google Jobs. With a strong passion for blockchain and AI, I'm confident that my MERN stack development skills and experience in building complex web solutions make me an ideal fit for this role.\n",
      "\n",
      "As a proficient developer with a competitive programming background, I've developed web applications that solve technical challenges with practical, user-focused design. My experience with React.js, Next.js, and Redux, as demonstrated in my projects such as StayZest and FundChain, aligns with the job requirements. I'm impressed by Turing's commitment to innovation and its impact on the tech industry, and I'm excited about the opportunity to contribute to the company's mission.\n",
      "\n",
      "I'd love to discuss how my skills and experience can help address the company's challenges and goals. Please consider my application, and I look forward to the opportunity to discuss this further.\n",
      "\n",
      "Best regards,\n",
      "Md. Shahidul Islam\n",
      "\n",
      "This email is concise, professional, and personalized, highlighting the user's unique value proposition and alignment with the job requirements. It demonstrates a deep understanding of the company's needs and the role's challenges, maximizing the user's chances of securing an interview. \n",
      "\n",
      "Note: Since the job post content is not fully available, the email is tailored based on the user's CV and general knowledge of front-end developer roles. If more information about the job post is available, the email can be further personalized to better fit the company's specific needs and requirements. \n",
      "\n",
      "Also, there are no significant skill gaps apparent from the provided information, so no acknowledgement of skill gaps is included in the email. If any gaps are identified, they can be addressed politely and briefly at the end of the email, framing them as opportunities for growth and expressing enthusiasm for learning and adapting to meet the role's demands.\n"
     ]
    }
   ],
   "source": [
    "template = \"\"\"\n",
    "You are an expert cold email generator with a deep understanding of recruitment strategies and persuasive communication. Your task is to craft a highly personalized, compelling, and professional cold email tailored to a specific job posting and a user's CV.\n",
    "\n",
    "Guidelines:\n",
    "Analyze the Job Posting and CV:\n",
    "\n",
    "Carefully review the job post content and the user's CV to identify key requirements, responsibilities, and qualifications.\n",
    "\n",
    "Highlight the most relevant skills, experiences, and achievements from the user's CV that align with the job posting.\n",
    "\n",
    "Tailor the Email:\n",
    "\n",
    "Start with a strong, personalized opening that grabs attention (e.g., mention a specific detail about the company or role).\n",
    "\n",
    "Clearly demonstrate how the user's background makes them an ideal fit for the role. Use specific examples from their CV to showcase their expertise.\n",
    "\n",
    "Address the company's needs and explain how the user can contribute to solving their challenges or achieving their goals.\n",
    "\n",
    "Address Skill Gaps (if any):\n",
    "\n",
    "If there are skill gaps between the user's CV and the job requirements, acknowledge them politely and briefly at the end of the email.\n",
    "Frame these gaps as opportunities for growth and express enthusiasm for learning and adapting to meet the role's demands.\n",
    "\n",
    "Tone and Structure:\n",
    "Keep the email concise, professional, and persuasive (ideally 150–200 words).\n",
    "Use a confident yet respectful tone that reflects the user's enthusiasm for the role and the company.\n",
    "End with a clear call-to-action, such as requesting an interview or a follow-up discussion.\n",
    "\n",
    "Inputs:\n",
    "Job Post Content: {job_post}\n",
    "\n",
    "User's CV: {user_cv}\n",
    "\n",
    "Output:\n",
    "Generate a personalized cold email that:\n",
    "\n",
    "Highlights the user's unique value proposition and alignment with the job requirements.\n",
    "Demonstrates a deep understanding of the company's needs and the role's challenges.\n",
    "Maximizes the user's chances of securing an interview by being memorable, relevant, and professional.\n",
    "\n",
    "\"\"\"\n",
    "\n",
    "prompt = PromptTemplate.from_template(template)\n",
    "\n",
    "chain = prompt | llm | StrOutputParser()\n",
    "\n",
    "print(chain.invoke({\"job_post\":job_post_data, \"user_cv\":cv_content}))"
   ]
  },
  {
   "cell_type": "code",
   "execution_count": null,
   "metadata": {},
   "outputs": [],
   "source": []
  }
 ],
 "metadata": {
  "kernelspec": {
   "display_name": "venv",
   "language": "python",
   "name": "python3"
  },
  "language_info": {
   "codemirror_mode": {
    "name": "ipython",
    "version": 3
   },
   "file_extension": ".py",
   "mimetype": "text/x-python",
   "name": "python",
   "nbconvert_exporter": "python",
   "pygments_lexer": "ipython3",
   "version": "3.11.8"
  }
 },
 "nbformat": 4,
 "nbformat_minor": 2
}
